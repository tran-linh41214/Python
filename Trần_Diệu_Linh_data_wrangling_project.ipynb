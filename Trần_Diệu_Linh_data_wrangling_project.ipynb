{
  "nbformat": 4,
  "nbformat_minor": 0,
  "metadata": {
    "colab": {
      "provenance": [],
      "authorship_tag": "ABX9TyOP7iZqvATXUKDN8i2IowRc",
      "include_colab_link": true
    },
    "kernelspec": {
      "name": "python3",
      "display_name": "Python 3"
    },
    "language_info": {
      "name": "python"
    }
  },
  "cells": [
    {
      "cell_type": "markdown",
      "metadata": {
        "id": "view-in-github",
        "colab_type": "text"
      },
      "source": [
        "<a href=\"https://colab.research.google.com/github/tran-linh41214/Python/blob/main/Tr%E1%BA%A7n_Di%E1%BB%87u_Linh_data_wrangling_project.ipynb\" target=\"_parent\"><img src=\"https://colab.research.google.com/assets/colab-badge.svg\" alt=\"Open In Colab\"/></a>"
      ]
    },
    {
      "cell_type": "code",
      "execution_count": null,
      "metadata": {
        "id": "BWfsleU5u3ya"
      },
      "outputs": [],
      "source": []
    },
    {
      "cell_type": "code",
      "source": [
        "import pandas as pd\n",
        "import numpy as np"
      ],
      "metadata": {
        "id": "Bo1uOm0iu6Zq"
      },
      "execution_count": null,
      "outputs": []
    },
    {
      "cell_type": "code",
      "source": [
        "from google.colab import drive\n",
        "drive.mount('/content/drive')\n"
      ],
      "metadata": {
        "colab": {
          "base_uri": "https://localhost:8080/"
        },
        "id": "rdcXKn_KvC2-",
        "outputId": "a9eccaf4-7654-4e9f-da54-07c0791eb9f1"
      },
      "execution_count": null,
      "outputs": [
        {
          "output_type": "stream",
          "name": "stdout",
          "text": [
            "Mounted at /content/drive\n"
          ]
        }
      ]
    },
    {
      "cell_type": "code",
      "source": [
        "payment_report = pd.read_csv('/content/drive/My Drive/DAC_Python_Project 2/payment_report.csv')\n",
        "product = pd.read_csv('/content/drive/My Drive/DAC_Python_Project 2/product.csv')\n",
        "transactions = pd.read_csv('/content/drive/My Drive/DAC_Python_Project 2/transactions.csv')"
      ],
      "metadata": {
        "id": "F97NmRoQ5PUA"
      },
      "execution_count": null,
      "outputs": []
    },
    {
      "cell_type": "markdown",
      "source": [
        "# **Part I: EDA**"
      ],
      "metadata": {
        "id": "N3jgFtGR6Ez9"
      }
    },
    {
      "cell_type": "markdown",
      "source": [
        "Merge payment_report và product"
      ],
      "metadata": {
        "id": "TDlhwtQ-IkxN"
      }
    },
    {
      "cell_type": "code",
      "source": [
        "payment_enriched = pd.merge(payment_report, product, on='product_id', how='left')"
      ],
      "metadata": {
        "id": "ucxNYTlTAwOg"
      },
      "execution_count": null,
      "outputs": []
    },
    {
      "cell_type": "markdown",
      "source": [
        "1. Check each column:"
      ],
      "metadata": {
        "id": "bCQ_20SyKg8T"
      }
    },
    {
      "cell_type": "code",
      "source": [
        "#Check missing data và data type của payment_enriched và transactions\n",
        "print(payment_enriched.info())\n",
        "print(payment_enriched.isnull().sum())\n",
        "print(transactions.info())\n",
        "print(transactions.isnull().sum())\n",
        "\n",
        "# Kiểm tra duplicates\n",
        "print(payment_enriched.duplicated().sum())\n",
        "print(transactions.duplicated().sum())\n"
      ],
      "metadata": {
        "colab": {
          "base_uri": "https://localhost:8080/"
        },
        "id": "L6NYA3g45wjB",
        "outputId": "75e963ac-e018-4faa-fcc6-a1f80aeaafe9"
      },
      "execution_count": null,
      "outputs": [
        {
          "output_type": "stream",
          "name": "stdout",
          "text": [
            "<class 'pandas.core.frame.DataFrame'>\n",
            "RangeIndex: 919 entries, 0 to 918\n",
            "Data columns (total 7 columns):\n",
            " #   Column         Non-Null Count  Dtype \n",
            "---  ------         --------------  ----- \n",
            " 0   report_month   919 non-null    object\n",
            " 1   payment_group  919 non-null    object\n",
            " 2   product_id     919 non-null    int64 \n",
            " 3   source_id      919 non-null    int64 \n",
            " 4   volume         919 non-null    int64 \n",
            " 5   category       897 non-null    object\n",
            " 6   team_own       897 non-null    object\n",
            "dtypes: int64(3), object(4)\n",
            "memory usage: 50.4+ KB\n",
            "None\n",
            "report_month      0\n",
            "payment_group     0\n",
            "product_id        0\n",
            "source_id         0\n",
            "volume            0\n",
            "category         22\n",
            "team_own         22\n",
            "dtype: int64\n",
            "<class 'pandas.core.frame.DataFrame'>\n",
            "RangeIndex: 1324002 entries, 0 to 1324001\n",
            "Data columns (total 9 columns):\n",
            " #   Column          Non-Null Count    Dtype  \n",
            "---  ------          --------------    -----  \n",
            " 0   transaction_id  1324002 non-null  int64  \n",
            " 1   merchant_id     1324002 non-null  int64  \n",
            " 2   volume          1324002 non-null  int64  \n",
            " 3   transType       1324002 non-null  int64  \n",
            " 4   transStatus     1324002 non-null  int64  \n",
            " 5   sender_id       1274943 non-null  float64\n",
            " 6   receiver_id     1159207 non-null  float64\n",
            " 7   extra_info      6095 non-null     object \n",
            " 8   timeStamp       1324002 non-null  int64  \n",
            "dtypes: float64(2), int64(6), object(1)\n",
            "memory usage: 90.9+ MB\n",
            "None\n",
            "transaction_id          0\n",
            "merchant_id             0\n",
            "volume                  0\n",
            "transType               0\n",
            "transStatus             0\n",
            "sender_id           49059\n",
            "receiver_id        164795\n",
            "extra_info        1317907\n",
            "timeStamp               0\n",
            "dtype: int64\n",
            "0\n",
            "28\n"
          ]
        }
      ]
    },
    {
      "cell_type": "markdown",
      "source": [
        "1. df payment_enriched:\n",
        "- 919 rows, 7 columns\n",
        "- report_month, payment_group, category, team_own: object\n",
        "- product_id, source_id, volume: int64\n",
        "- category, team_own: 22 null => *thay thế bằng unknown*\n",
        "- Không có duplicate\n",
        "2. df transactions\n",
        "- 492 rows, 3 columns\n",
        "- transaction_id, merchant_id, volume, transType, transStatus, timeStamp: int64\n",
        "- sender_id, receiver_id: float_64 => *đổi int64*\n",
        "- extra_info: object\n",
        "- sender_id: 49059 giá trị null.\n",
        "- receiver_id có 164795 giá trị null.\n",
        "- extra_info có 1,317,907 giá trị null => gần như không có thông tin trong cột này => *no action*\n",
        "- 28 duplicates => *bỏ duplicate*\n",
        "\n"
      ],
      "metadata": {
        "id": "Ag8uj3w98Kq1"
      }
    },
    {
      "cell_type": "code",
      "source": [
        "# Thay thế giá trị null trong cột 'category' và 'team_own' bằng 'unknown'\n",
        "payment_enriched['category'] = payment_enriched['category'].fillna('unknown')\n",
        "payment_enriched['team_own'] = payment_enriched['team_own'].fillna('unknown')\n",
        "# Bỏ duplicates trong transactions\n",
        "transactions.drop_duplicates(inplace=True)\n",
        "#Thay thế giá trị null trong cột 'sender_id' và 'receiver_id' bằng -1 (không có dữ liệu)\n",
        "transactions['sender_id'] = transactions['sender_id'].fillna(-1)\n",
        "transactions['receiver_id'] = transactions['receiver_id'].fillna(-1)\n",
        "#Chuyển kiểu dữ liệu sender_id và receiver_id từ float64 sang int64\n",
        "transactions['sender_id'] = transactions['sender_id'].astype('int64')\n",
        "transactions['receiver_id'] = transactions['receiver_id'].astype('int64')"
      ],
      "metadata": {
        "id": "1XqyzunlFlNF"
      },
      "execution_count": null,
      "outputs": []
    },
    {
      "cell_type": "markdown",
      "source": [
        "2. Summarize numerical data:"
      ],
      "metadata": {
        "id": "JCWR_V-8KqfF"
      }
    },
    {
      "cell_type": "code",
      "source": [
        "# Kiểm tra số liệu trong 2 df\n",
        "print(payment_enriched.describe())\n",
        "print(transactions.describe())"
      ],
      "metadata": {
        "colab": {
          "base_uri": "https://localhost:8080/"
        },
        "id": "WcJTkARO_ASs",
        "outputId": "56c92f29-144e-4f23-ee8f-e44d2a6da849"
      },
      "execution_count": null,
      "outputs": [
        {
          "output_type": "stream",
          "name": "stdout",
          "text": [
            "         product_id   source_id        volume\n",
            "count    919.000000  919.000000  9.190000e+02\n",
            "mean    1192.517954   44.875952  1.978574e+08\n",
            "std     1293.463329    0.910995  8.367595e+08\n",
            "min        3.000000   37.000000  5.500000e+03\n",
            "25%      640.000000   45.000000  1.250000e+06\n",
            "50%     1059.000000   45.000000  7.982015e+06\n",
            "75%     1585.000000   45.000000  5.447599e+07\n",
            "max    15067.000000   45.000000  1.383171e+10\n",
            "       transaction_id   merchant_id        volume     transType   transStatus  \\\n",
            "count    1.323974e+06  1.323974e+06  1.323974e+06  1.323974e+06  1.323974e+06   \n",
            "mean     3.002234e+09  2.460332e+03  2.388093e+05  6.979182e+00 -1.204636e+01   \n",
            "std      1.042617e+07  3.304293e+03  9.681107e+05  7.459665e+00  5.577851e+01   \n",
            "min      3.000000e+09  5.000000e+00  1.000000e+00  2.000000e+00 -1.333000e+03   \n",
            "25%      3.001121e+09  3.050000e+02  1.000000e+04  2.000000e+00  1.000000e+00   \n",
            "50%      3.002200e+09  2.250000e+03  3.000000e+04  2.000000e+00  1.000000e+00   \n",
            "75%      3.003255e+09  2.270000e+03  1.000000e+05  8.000000e+00  1.000000e+00   \n",
            "max      6.000066e+09  1.625250e+05  7.869148e+07  3.000000e+01  1.000000e+00   \n",
            "\n",
            "          sender_id   receiver_id     timeStamp  \n",
            "count  1.323974e+06  1.323974e+06  1.323974e+06  \n",
            "mean   9.956116e+07  1.825382e+08  1.683130e+12  \n",
            "std    6.120781e+08  8.717817e+08  1.707816e+08  \n",
            "min   -1.000000e+00 -6.300000e+01  1.682874e+12  \n",
            "25%    1.004014e+07  4.059475e+04  1.682994e+12  \n",
            "50%    1.057187e+07  3.529736e+06  1.683097e+12  \n",
            "75%    2.100163e+07  2.451345e+07  1.683269e+12  \n",
            "max    6.993439e+09  2.100000e+10  1.683479e+12  \n"
          ]
        }
      ]
    },
    {
      "cell_type": "markdown",
      "source": [
        "Không có incorrect values"
      ],
      "metadata": {
        "id": "xm-MfinWKwUF"
      }
    },
    {
      "cell_type": "markdown",
      "source": [
        "# **Part II: Data Wrangling**"
      ],
      "metadata": {
        "id": "3PNZnR6HLrpr"
      }
    },
    {
      "cell_type": "markdown",
      "source": [
        "**1. Top 3 product_ids with the highest volume.**"
      ],
      "metadata": {
        "id": "EvShMdAcMEns"
      }
    },
    {
      "cell_type": "code",
      "source": [
        "# Top 3 product_id có volume cao nhất\n",
        "top_3_product_ids = payment_enriched.groupby('product_id')['volume'].sum().nlargest(3)\n",
        "print(top_3_product_ids)"
      ],
      "metadata": {
        "colab": {
          "base_uri": "https://localhost:8080/"
        },
        "id": "WoYcN_d0_WrY",
        "outputId": "7598b0cd-69ed-444a-e66b-4528e18f4878"
      },
      "execution_count": null,
      "outputs": [
        {
          "output_type": "stream",
          "name": "stdout",
          "text": [
            "product_id\n",
            "1976    61797583647\n",
            "429     14667676567\n",
            "372     13713658515\n",
            "Name: volume, dtype: int64\n"
          ]
        }
      ]
    },
    {
      "cell_type": "markdown",
      "source": [
        "Product_id của Top 3 sản phẩm có hiệu suất lớn nhất: 1976, 429, 372"
      ],
      "metadata": {
        "id": "tT-SkM-ZVBCp"
      }
    },
    {
      "cell_type": "markdown",
      "source": [
        "**2**. **Given that 1 product_id is only owed by 1 team, are there any abnormal products against this rule?**"
      ],
      "metadata": {
        "id": "EdEXFRzJN1gn"
      }
    },
    {
      "cell_type": "code",
      "source": [
        "# Kiểm tra sản phẩm thuộc nhiều hơn 1 team\n",
        "team_check = payment_enriched.groupby('product_id')['team_own'].nunique()\n",
        "abnormal_products = team_check[team_check > 1]\n",
        "print(abnormal_products)"
      ],
      "metadata": {
        "colab": {
          "base_uri": "https://localhost:8080/"
        },
        "id": "Ii-cEsQLIdwy",
        "outputId": "e6dd274b-562c-44b2-c12a-58c6fd4643db"
      },
      "execution_count": null,
      "outputs": [
        {
          "output_type": "stream",
          "name": "stdout",
          "text": [
            "Series([], Name: team_own, dtype: int64)\n"
          ]
        }
      ]
    },
    {
      "cell_type": "markdown",
      "source": [
        "=> Không có sản phẩm nào thuộc nhiều hơn 1 team"
      ],
      "metadata": {
        "id": "bzLlOoKtPzAu"
      }
    },
    {
      "cell_type": "markdown",
      "source": [
        "**3. Find the team has had the lowest performance (lowest volume) since Q2.2023. Find the category that contributes the least to that team.**"
      ],
      "metadata": {
        "id": "3OU9xEdVP68Z"
      }
    },
    {
      "cell_type": "code",
      "source": [
        "# Lọc các dữ liệu từ Q2.2023 trở đi\n",
        "payment_enriched['report_month'] = pd.to_datetime(payment_enriched['report_month'], format='%Y-%m')\n",
        "q2_2023 = payment_enriched[payment_enriched['report_month'] >= '2023-04']\n",
        "\n",
        "# Team có hiệu suất thấp nhất\n",
        "team_lowest_performance = q2_2023.groupby('team_own')['volume'].sum().nsmallest(1)\n",
        "print(team_lowest_performance)\n",
        "\n",
        "# Tìm category đóng góp ít nhất trong team đó\n",
        "lowest_team = team_lowest_performance.idxmin()\n",
        "lowest_team_category = q2_2023[q2_2023['team_own'] == lowest_team].groupby('category')['volume'].sum().nsmallest(1)\n",
        "print(lowest_team_category)"
      ],
      "metadata": {
        "colab": {
          "base_uri": "https://localhost:8080/"
        },
        "id": "lNP7DNxyP6mu",
        "outputId": "f3bd689d-605a-4c88-86ab-b6c1c1577137"
      },
      "execution_count": null,
      "outputs": [
        {
          "output_type": "stream",
          "name": "stdout",
          "text": [
            "team_own\n",
            "APS    51141753\n",
            "Name: volume, dtype: int64\n",
            "category\n",
            "PXXXXXE    25232438\n",
            "Name: volume, dtype: int64\n"
          ]
        }
      ]
    },
    {
      "cell_type": "markdown",
      "source": [
        "- Team có hiệu suất thấp nhất: APS (volume: 51141753)\n",
        "- Category đóng góp ít nhất: PXXXXXE (volume: 25232438)"
      ],
      "metadata": {
        "id": "awmUyKZZVb1g"
      }
    },
    {
      "cell_type": "markdown",
      "source": [
        "**4. Find the contribution of source_ids of refund transactions (payment_group = ‘refund’), what is the source_id with the highest contribution?**"
      ],
      "metadata": {
        "id": "DV6HxFP1Vt-0"
      }
    },
    {
      "cell_type": "code",
      "source": [
        "# Tìm source_id có đóng góp cao nhất cho giao dịch 'refund'\n",
        "refunds = payment_enriched[payment_enriched['payment_group'] == 'refund']\n",
        "top_refund_source = refunds.groupby('source_id')['volume'].sum().idxmax()\n",
        "print(top_refund_source)"
      ],
      "metadata": {
        "colab": {
          "base_uri": "https://localhost:8080/"
        },
        "id": "IHk1MTbVVtLK",
        "outputId": "f6ebe291-37f9-4438-c131-383884c25d84"
      },
      "execution_count": null,
      "outputs": [
        {
          "output_type": "stream",
          "name": "stdout",
          "text": [
            "38\n"
          ]
        }
      ]
    },
    {
      "cell_type": "markdown",
      "source": [
        "Source_id có bị hoàn tiền nhiều nhất là 38"
      ],
      "metadata": {
        "id": "TkgtBulIWNId"
      }
    },
    {
      "cell_type": "markdown",
      "source": [
        "**5. Define type of transactions (‘transaction_type’) for each row**"
      ],
      "metadata": {
        "id": "gv2cu0PIWYW7"
      }
    },
    {
      "cell_type": "code",
      "source": [
        "# Thiết lập hàm để xác định các loại giao dịch\n",
        "def classify_transaction(row):\n",
        "    if row['transType'] == 2 and row['merchant_id'] == 1205:\n",
        "        return 'Bank Transfer Transaction'\n",
        "    elif row['transType'] == 2 and row['merchant_id'] == 2260:\n",
        "        return 'Withdraw Money Transaction'\n",
        "    elif row['transType'] == 2 and row['merchant_id'] == 2270:\n",
        "        return 'Top Up Money Transaction'\n",
        "    elif row['transType'] == 2:\n",
        "        return 'Payment Transaction'\n",
        "    elif row['transType'] == 8 and row['merchant_id'] == 2250:\n",
        "        return 'Transfer Money Transaction'\n",
        "    elif row['transType'] == 8:\n",
        "        return 'Split Bill Transaction'\n",
        "    else:\n",
        "        return 'Invalid Transaction'\n",
        "\n",
        "# Áp dụng hàm để thêm cột 'transaction_type'\n",
        "transactions['transaction_type'] = transactions.apply(classify_transaction, axis=1)\n",
        "\n",
        "# Kiểm tra kết quả\n",
        "transactions[['transType', 'merchant_id', 'transaction_type']].head()"
      ],
      "metadata": {
        "colab": {
          "base_uri": "https://localhost:8080/",
          "height": 206
        },
        "id": "CMxpQ_LwWmSn",
        "outputId": "b57fd867-a8e9-4619-9689-c5ae314be9e9"
      },
      "execution_count": null,
      "outputs": [
        {
          "output_type": "execute_result",
          "data": {
            "text/plain": [
              "   transType  merchant_id          transaction_type\n",
              "0         24            5       Invalid Transaction\n",
              "1          2          305       Payment Transaction\n",
              "2         22         7255       Invalid Transaction\n",
              "3          2         2270  Top Up Money Transaction\n",
              "4          2         2275       Payment Transaction"
            ],
            "text/html": [
              "\n",
              "  <div id=\"df-5e3e974d-87d1-4600-82b1-1373e7ccdf66\" class=\"colab-df-container\">\n",
              "    <div>\n",
              "<style scoped>\n",
              "    .dataframe tbody tr th:only-of-type {\n",
              "        vertical-align: middle;\n",
              "    }\n",
              "\n",
              "    .dataframe tbody tr th {\n",
              "        vertical-align: top;\n",
              "    }\n",
              "\n",
              "    .dataframe thead th {\n",
              "        text-align: right;\n",
              "    }\n",
              "</style>\n",
              "<table border=\"1\" class=\"dataframe\">\n",
              "  <thead>\n",
              "    <tr style=\"text-align: right;\">\n",
              "      <th></th>\n",
              "      <th>transType</th>\n",
              "      <th>merchant_id</th>\n",
              "      <th>transaction_type</th>\n",
              "    </tr>\n",
              "  </thead>\n",
              "  <tbody>\n",
              "    <tr>\n",
              "      <th>0</th>\n",
              "      <td>24</td>\n",
              "      <td>5</td>\n",
              "      <td>Invalid Transaction</td>\n",
              "    </tr>\n",
              "    <tr>\n",
              "      <th>1</th>\n",
              "      <td>2</td>\n",
              "      <td>305</td>\n",
              "      <td>Payment Transaction</td>\n",
              "    </tr>\n",
              "    <tr>\n",
              "      <th>2</th>\n",
              "      <td>22</td>\n",
              "      <td>7255</td>\n",
              "      <td>Invalid Transaction</td>\n",
              "    </tr>\n",
              "    <tr>\n",
              "      <th>3</th>\n",
              "      <td>2</td>\n",
              "      <td>2270</td>\n",
              "      <td>Top Up Money Transaction</td>\n",
              "    </tr>\n",
              "    <tr>\n",
              "      <th>4</th>\n",
              "      <td>2</td>\n",
              "      <td>2275</td>\n",
              "      <td>Payment Transaction</td>\n",
              "    </tr>\n",
              "  </tbody>\n",
              "</table>\n",
              "</div>\n",
              "    <div class=\"colab-df-buttons\">\n",
              "\n",
              "  <div class=\"colab-df-container\">\n",
              "    <button class=\"colab-df-convert\" onclick=\"convertToInteractive('df-5e3e974d-87d1-4600-82b1-1373e7ccdf66')\"\n",
              "            title=\"Convert this dataframe to an interactive table.\"\n",
              "            style=\"display:none;\">\n",
              "\n",
              "  <svg xmlns=\"http://www.w3.org/2000/svg\" height=\"24px\" viewBox=\"0 -960 960 960\">\n",
              "    <path d=\"M120-120v-720h720v720H120Zm60-500h600v-160H180v160Zm220 220h160v-160H400v160Zm0 220h160v-160H400v160ZM180-400h160v-160H180v160Zm440 0h160v-160H620v160ZM180-180h160v-160H180v160Zm440 0h160v-160H620v160Z\"/>\n",
              "  </svg>\n",
              "    </button>\n",
              "\n",
              "  <style>\n",
              "    .colab-df-container {\n",
              "      display:flex;\n",
              "      gap: 12px;\n",
              "    }\n",
              "\n",
              "    .colab-df-convert {\n",
              "      background-color: #E8F0FE;\n",
              "      border: none;\n",
              "      border-radius: 50%;\n",
              "      cursor: pointer;\n",
              "      display: none;\n",
              "      fill: #1967D2;\n",
              "      height: 32px;\n",
              "      padding: 0 0 0 0;\n",
              "      width: 32px;\n",
              "    }\n",
              "\n",
              "    .colab-df-convert:hover {\n",
              "      background-color: #E2EBFA;\n",
              "      box-shadow: 0px 1px 2px rgba(60, 64, 67, 0.3), 0px 1px 3px 1px rgba(60, 64, 67, 0.15);\n",
              "      fill: #174EA6;\n",
              "    }\n",
              "\n",
              "    .colab-df-buttons div {\n",
              "      margin-bottom: 4px;\n",
              "    }\n",
              "\n",
              "    [theme=dark] .colab-df-convert {\n",
              "      background-color: #3B4455;\n",
              "      fill: #D2E3FC;\n",
              "    }\n",
              "\n",
              "    [theme=dark] .colab-df-convert:hover {\n",
              "      background-color: #434B5C;\n",
              "      box-shadow: 0px 1px 3px 1px rgba(0, 0, 0, 0.15);\n",
              "      filter: drop-shadow(0px 1px 2px rgba(0, 0, 0, 0.3));\n",
              "      fill: #FFFFFF;\n",
              "    }\n",
              "  </style>\n",
              "\n",
              "    <script>\n",
              "      const buttonEl =\n",
              "        document.querySelector('#df-5e3e974d-87d1-4600-82b1-1373e7ccdf66 button.colab-df-convert');\n",
              "      buttonEl.style.display =\n",
              "        google.colab.kernel.accessAllowed ? 'block' : 'none';\n",
              "\n",
              "      async function convertToInteractive(key) {\n",
              "        const element = document.querySelector('#df-5e3e974d-87d1-4600-82b1-1373e7ccdf66');\n",
              "        const dataTable =\n",
              "          await google.colab.kernel.invokeFunction('convertToInteractive',\n",
              "                                                    [key], {});\n",
              "        if (!dataTable) return;\n",
              "\n",
              "        const docLinkHtml = 'Like what you see? Visit the ' +\n",
              "          '<a target=\"_blank\" href=https://colab.research.google.com/notebooks/data_table.ipynb>data table notebook</a>'\n",
              "          + ' to learn more about interactive tables.';\n",
              "        element.innerHTML = '';\n",
              "        dataTable['output_type'] = 'display_data';\n",
              "        await google.colab.output.renderOutput(dataTable, element);\n",
              "        const docLink = document.createElement('div');\n",
              "        docLink.innerHTML = docLinkHtml;\n",
              "        element.appendChild(docLink);\n",
              "      }\n",
              "    </script>\n",
              "  </div>\n",
              "\n",
              "\n",
              "<div id=\"df-7dd45738-2572-4195-8278-409b55e0dfed\">\n",
              "  <button class=\"colab-df-quickchart\" onclick=\"quickchart('df-7dd45738-2572-4195-8278-409b55e0dfed')\"\n",
              "            title=\"Suggest charts\"\n",
              "            style=\"display:none;\">\n",
              "\n",
              "<svg xmlns=\"http://www.w3.org/2000/svg\" height=\"24px\"viewBox=\"0 0 24 24\"\n",
              "     width=\"24px\">\n",
              "    <g>\n",
              "        <path d=\"M19 3H5c-1.1 0-2 .9-2 2v14c0 1.1.9 2 2 2h14c1.1 0 2-.9 2-2V5c0-1.1-.9-2-2-2zM9 17H7v-7h2v7zm4 0h-2V7h2v10zm4 0h-2v-4h2v4z\"/>\n",
              "    </g>\n",
              "</svg>\n",
              "  </button>\n",
              "\n",
              "<style>\n",
              "  .colab-df-quickchart {\n",
              "      --bg-color: #E8F0FE;\n",
              "      --fill-color: #1967D2;\n",
              "      --hover-bg-color: #E2EBFA;\n",
              "      --hover-fill-color: #174EA6;\n",
              "      --disabled-fill-color: #AAA;\n",
              "      --disabled-bg-color: #DDD;\n",
              "  }\n",
              "\n",
              "  [theme=dark] .colab-df-quickchart {\n",
              "      --bg-color: #3B4455;\n",
              "      --fill-color: #D2E3FC;\n",
              "      --hover-bg-color: #434B5C;\n",
              "      --hover-fill-color: #FFFFFF;\n",
              "      --disabled-bg-color: #3B4455;\n",
              "      --disabled-fill-color: #666;\n",
              "  }\n",
              "\n",
              "  .colab-df-quickchart {\n",
              "    background-color: var(--bg-color);\n",
              "    border: none;\n",
              "    border-radius: 50%;\n",
              "    cursor: pointer;\n",
              "    display: none;\n",
              "    fill: var(--fill-color);\n",
              "    height: 32px;\n",
              "    padding: 0;\n",
              "    width: 32px;\n",
              "  }\n",
              "\n",
              "  .colab-df-quickchart:hover {\n",
              "    background-color: var(--hover-bg-color);\n",
              "    box-shadow: 0 1px 2px rgba(60, 64, 67, 0.3), 0 1px 3px 1px rgba(60, 64, 67, 0.15);\n",
              "    fill: var(--button-hover-fill-color);\n",
              "  }\n",
              "\n",
              "  .colab-df-quickchart-complete:disabled,\n",
              "  .colab-df-quickchart-complete:disabled:hover {\n",
              "    background-color: var(--disabled-bg-color);\n",
              "    fill: var(--disabled-fill-color);\n",
              "    box-shadow: none;\n",
              "  }\n",
              "\n",
              "  .colab-df-spinner {\n",
              "    border: 2px solid var(--fill-color);\n",
              "    border-color: transparent;\n",
              "    border-bottom-color: var(--fill-color);\n",
              "    animation:\n",
              "      spin 1s steps(1) infinite;\n",
              "  }\n",
              "\n",
              "  @keyframes spin {\n",
              "    0% {\n",
              "      border-color: transparent;\n",
              "      border-bottom-color: var(--fill-color);\n",
              "      border-left-color: var(--fill-color);\n",
              "    }\n",
              "    20% {\n",
              "      border-color: transparent;\n",
              "      border-left-color: var(--fill-color);\n",
              "      border-top-color: var(--fill-color);\n",
              "    }\n",
              "    30% {\n",
              "      border-color: transparent;\n",
              "      border-left-color: var(--fill-color);\n",
              "      border-top-color: var(--fill-color);\n",
              "      border-right-color: var(--fill-color);\n",
              "    }\n",
              "    40% {\n",
              "      border-color: transparent;\n",
              "      border-right-color: var(--fill-color);\n",
              "      border-top-color: var(--fill-color);\n",
              "    }\n",
              "    60% {\n",
              "      border-color: transparent;\n",
              "      border-right-color: var(--fill-color);\n",
              "    }\n",
              "    80% {\n",
              "      border-color: transparent;\n",
              "      border-right-color: var(--fill-color);\n",
              "      border-bottom-color: var(--fill-color);\n",
              "    }\n",
              "    90% {\n",
              "      border-color: transparent;\n",
              "      border-bottom-color: var(--fill-color);\n",
              "    }\n",
              "  }\n",
              "</style>\n",
              "\n",
              "  <script>\n",
              "    async function quickchart(key) {\n",
              "      const quickchartButtonEl =\n",
              "        document.querySelector('#' + key + ' button');\n",
              "      quickchartButtonEl.disabled = true;  // To prevent multiple clicks.\n",
              "      quickchartButtonEl.classList.add('colab-df-spinner');\n",
              "      try {\n",
              "        const charts = await google.colab.kernel.invokeFunction(\n",
              "            'suggestCharts', [key], {});\n",
              "      } catch (error) {\n",
              "        console.error('Error during call to suggestCharts:', error);\n",
              "      }\n",
              "      quickchartButtonEl.classList.remove('colab-df-spinner');\n",
              "      quickchartButtonEl.classList.add('colab-df-quickchart-complete');\n",
              "    }\n",
              "    (() => {\n",
              "      let quickchartButtonEl =\n",
              "        document.querySelector('#df-7dd45738-2572-4195-8278-409b55e0dfed button');\n",
              "      quickchartButtonEl.style.display =\n",
              "        google.colab.kernel.accessAllowed ? 'block' : 'none';\n",
              "    })();\n",
              "  </script>\n",
              "</div>\n",
              "\n",
              "    </div>\n",
              "  </div>\n"
            ],
            "application/vnd.google.colaboratory.intrinsic+json": {
              "type": "dataframe",
              "summary": "{\n  \"name\": \"transactions[['transType', 'merchant_id', 'transaction_type']]\",\n  \"rows\": 5,\n  \"fields\": [\n    {\n      \"column\": \"transType\",\n      \"properties\": {\n        \"dtype\": \"number\",\n        \"std\": 11,\n        \"min\": 2,\n        \"max\": 24,\n        \"num_unique_values\": 3,\n        \"samples\": [\n          24,\n          2,\n          22\n        ],\n        \"semantic_type\": \"\",\n        \"description\": \"\"\n      }\n    },\n    {\n      \"column\": \"merchant_id\",\n      \"properties\": {\n        \"dtype\": \"number\",\n        \"std\": 2903,\n        \"min\": 5,\n        \"max\": 7255,\n        \"num_unique_values\": 5,\n        \"samples\": [\n          305,\n          2275,\n          7255\n        ],\n        \"semantic_type\": \"\",\n        \"description\": \"\"\n      }\n    },\n    {\n      \"column\": \"transaction_type\",\n      \"properties\": {\n        \"dtype\": \"string\",\n        \"num_unique_values\": 3,\n        \"samples\": [\n          \"Invalid Transaction\",\n          \"Payment Transaction\",\n          \"Top Up Money Transaction\"\n        ],\n        \"semantic_type\": \"\",\n        \"description\": \"\"\n      }\n    }\n  ]\n}"
            }
          },
          "metadata": {},
          "execution_count": 31
        }
      ]
    },
    {
      "cell_type": "markdown",
      "source": [
        "**6. Of each transaction type (excluding invalid transactions): find the number of transactions, volume, senders and receivers.**"
      ],
      "metadata": {
        "id": "8smhtL5pXcQZ"
      }
    },
    {
      "cell_type": "code",
      "source": [
        "#Thiết lập hàm\n",
        "def calculate_stats(group):\n",
        "    number_of_transactions = len(group)  # Số lượng giao dịch\n",
        "    total_volume = group['volume'].sum()  # Tổng volume\n",
        "    unique_senders = group['sender_id'].nunique()  # Số lượng sender khác nhau\n",
        "    unique_receivers = group['receiver_id'].nunique()  # Số lượng receiver khác nhau\n",
        "\n",
        "    # Trả về một Series chứa các thống kê\n",
        "    return pd.Series({\n",
        "        'number_of_transactions': number_of_transactions,\n",
        "        'total_volume': total_volume,\n",
        "        'unique_senders': unique_senders,\n",
        "        'unique_receivers': unique_receivers\n",
        "    })\n",
        "# Tính toán các thống kê bằng cách sử dụng hàm đã định nghĩa\n",
        "summary_stats = transactions.groupby('transaction_type').apply(calculate_stats).reset_index()\n",
        "\n",
        "# Kiểm tra kết quả\n",
        "print(summary_stats)"
      ],
      "metadata": {
        "colab": {
          "base_uri": "https://localhost:8080/"
        },
        "id": "i3BF4VI5Xl24",
        "outputId": "3339efc0-637a-420b-fd1c-80952904b918"
      },
      "execution_count": null,
      "outputs": [
        {
          "output_type": "stream",
          "name": "stdout",
          "text": [
            "             transaction_type  number_of_transactions  total_volume  \\\n",
            "0   Bank Transfer Transaction                   37879   50605806190   \n",
            "1         Invalid Transaction                  220658   24659277889   \n",
            "2         Payment Transaction                  398665   71850608441   \n",
            "3      Split Bill Transaction                    1376       4901464   \n",
            "4    Top Up Money Transaction                  290498  108605618829   \n",
            "5  Transfer Money Transaction                  341173   37032880492   \n",
            "6  Withdraw Money Transaction                   33725   23418181420   \n",
            "\n",
            "   unique_senders  unique_receivers  \n",
            "0           23156              9272  \n",
            "1            2709             89717  \n",
            "2          139583            113299  \n",
            "3            1323               572  \n",
            "4          110409            110409  \n",
            "5           39021             34585  \n",
            "6           24814             24814  \n"
          ]
        },
        {
          "output_type": "stream",
          "name": "stderr",
          "text": [
            "<ipython-input-32-de74beb1b9a1>:16: DeprecationWarning: DataFrameGroupBy.apply operated on the grouping columns. This behavior is deprecated, and in a future version of pandas the grouping columns will be excluded from the operation. Either pass `include_groups=False` to exclude the groupings or explicitly select the grouping columns after groupby to silence this warning.\n",
            "  summary_stats = transactions.groupby('transaction_type').apply(calculate_stats).reset_index()\n"
          ]
        }
      ]
    }
  ]
}